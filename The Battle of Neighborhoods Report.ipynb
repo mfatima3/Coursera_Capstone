{
    "cells": [
        {
            "cell_type": "markdown",
            "metadata": {
                "collapsed": true
            },
            "source": "# The Battle of Neighborhoods Capstone Report"
        },
        {
            "cell_type": "markdown",
            "metadata": {},
            "source": "## Introduction"
        },
        {
            "cell_type": "markdown",
            "metadata": {},
            "source": "The problem I will discuss is comparing the two neighborhoods discussed in Module 3, New York City and Toronto. Both cities are very diverse and are the financial capitals of their respective countries. This can be a topic of interest for many parties. One of those could be any investors trying to open a business or invest in property in these cities. They will get a better understanding of the geographical advantages of each city and will be better able to leverage the advantages and dissdvantages of each. "
        },
        {
            "cell_type": "markdown",
            "metadata": {},
            "source": "## Data Used"
        },
        {
            "cell_type": "markdown",
            "metadata": {},
            "source": "The labs done for Toronto segmented and clustered neighborhoods is a good place to start. I would need to leverage the foursquare location data to solve or execute. Data science problems always target an audience and are meant to help a group of stakeholders solve a problem, so make sure that I explicitly describe the audience and why they would care about my problem. The lab done for New York gives the 10 most common venues in each district. The data set is about Toronto Venues. After transforming the data to Json files, it is easy to use Pandas to transform them into DataFrame. Then select the required data columns to appear and get the information we want. Geopy library is used to get the latitude and longitude values. With the locations the maps can be created and we will have a direct understanding of the neighborhoods and the purposed areas. The Folium library is also used to show maps on different requirements. Lastly, a different analysis on Toronto will give us better data to where and what to invest in."
        },
        {
            "cell_type": "code",
            "execution_count": null,
            "metadata": {},
            "outputs": [],
            "source": ""
        }
    ],
    "metadata": {
        "kernelspec": {
            "display_name": "Python 3.6",
            "language": "python",
            "name": "python3"
        },
        "language_info": {
            "codemirror_mode": {
                "name": "ipython",
                "version": 3
            },
            "file_extension": ".py",
            "mimetype": "text/x-python",
            "name": "python",
            "nbconvert_exporter": "python",
            "pygments_lexer": "ipython3",
            "version": "3.6.9"
        }
    },
    "nbformat": 4,
    "nbformat_minor": 1
}